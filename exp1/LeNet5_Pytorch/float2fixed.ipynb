{
 "cells": [
  {
   "cell_type": "code",
   "execution_count": 1,
   "metadata": {},
   "outputs": [],
   "source": [
    "import numpy as np\n",
    "import math"
   ]
  },
  {
   "cell_type": "code",
   "execution_count": 2,
   "metadata": {},
   "outputs": [],
   "source": [
    "# 十进制转二进制\n",
    "def to_bin(value, num): # 十进制数据，二进制位宽\n",
    "    bin_chars = \"\"\n",
    "    temp = value\n",
    "    for i in range(num):\n",
    "        bin_char = bin(temp % 2)[-1]  # python转二进制的内置函数 要求是int类型 返回的是字符串类型\n",
    "        temp = temp // 2  \n",
    "        bin_chars = bin_char + bin_chars\n",
    "    return bin_chars.upper() # 输出指定位宽的二进制字符串"
   ]
  },
  {
   "cell_type": "code",
   "execution_count": 9,
   "metadata": {},
   "outputs": [
    {
     "data": {
      "text/plain": [
       "'11110111'"
      ]
     },
     "execution_count": 9,
     "metadata": {},
     "output_type": "execute_result"
    }
   ],
   "source": [
    "to_bin(-9,8)"
   ]
  },
  {
   "cell_type": "code",
   "execution_count": 6,
   "metadata": {},
   "outputs": [
    {
     "data": {
      "text/plain": [
       "'00010101'"
      ]
     },
     "execution_count": 6,
     "metadata": {},
     "output_type": "execute_result"
    }
   ],
   "source": [
    "to_bin(21,8)"
   ]
  },
  {
   "cell_type": "code",
   "execution_count": null,
   "metadata": {},
   "outputs": [],
   "source": [
    "# 浮点转定点方法\n",
    "sign_bit = 1 # 符号位\n",
    "int_bit = 4 # 整数位\n",
    "frac_bit = 3 # 小数位\n",
    "sum_bit = sign_bit + int_bit + frac_bit # 二进制位宽\n",
    "\n",
    "def float_to_fixed(float_file, fixed_file):\n",
    "    float_data_file = open(float_file, 'r')\n",
    "    fixed_data_file = open(fixed_file, 'a')\n",
    "    \n",
    "    float_data = float_data_file.read().strip().split('\\n')\n",
    "    for i in range(len(float_data)):\n",
    "        data = float(float_data[i])\n",
    "        x1 = data * math.pow(2,frac_bit)  # 定点化\n",
    "        x2 = np.clip(x1, -math.pow(2, int_bit+frac_bit), math.pow(2, int_bit+frac_bit)-1) # 截断\n",
    "        x3 = round(x2) # 四舍五入取整\n",
    "\n",
    "#       planA:负数取原码\n",
    "        # 分正负数情况讨论\n",
    "        if x3 >= 0:\n",
    "            output = to_bin(x3, sum_bit)\n",
    "            fixed_data_file.write(output + ',' + '\\n')\n",
    "        else:  # 负数取原码\n",
    "            x4 = x3*(-1)\n",
    "            output = to_bin(x4, sum_bit-1)\n",
    "            output = '1' + output\n",
    "            fixed_data_file.write(output + ',' + '\\n')\n",
    "\n",
    "#       planB:负数取补码      \n",
    "#         output = to_bin(x3, sum_bit)\n",
    "#         fixed_data_file.write(output + '\\n')\n",
    "#         fixed_data_file.write(output + ',' + '\\n')\n",
    "        \n",
    "    \n",
    "    float_data_file.close()\n",
    "    fixed_data_file.close()"
   ]
  },
  {
   "cell_type": "markdown",
   "metadata": {},
   "source": [
    "## 将二进制数据依次写入txt文档"
   ]
  },
  {
   "cell_type": "markdown",
   "metadata": {},
   "source": [
    "### weight"
   ]
  },
  {
   "cell_type": "code",
   "execution_count": null,
   "metadata": {},
   "outputs": [],
   "source": [
    "float_to_fixed('./param_text/weight/c1_weight.txt', 'weights_and_bias_bin.txt')"
   ]
  },
  {
   "cell_type": "code",
   "execution_count": null,
   "metadata": {},
   "outputs": [],
   "source": [
    "float_to_fixed('./param_text/weight/c2_weight.txt', 'weights_and_bias_bin.txt')"
   ]
  },
  {
   "cell_type": "code",
   "execution_count": null,
   "metadata": {},
   "outputs": [],
   "source": [
    "float_to_fixed('./param_text/weight/fc1_weight.txt', 'weights_and_bias_bin.txt')"
   ]
  },
  {
   "cell_type": "code",
   "execution_count": null,
   "metadata": {},
   "outputs": [],
   "source": [
    "float_to_fixed('./param_text/weight/fc2_weight.txt', 'weights_and_bias_bin.txt')"
   ]
  },
  {
   "cell_type": "markdown",
   "metadata": {},
   "source": [
    "### bias"
   ]
  },
  {
   "cell_type": "code",
   "execution_count": null,
   "metadata": {},
   "outputs": [],
   "source": [
    "float_to_fixed('./param_text/bias/c1_bias.txt', 'weights_and_bias_bin.txt')"
   ]
  },
  {
   "cell_type": "code",
   "execution_count": null,
   "metadata": {},
   "outputs": [],
   "source": [
    "float_to_fixed('./param_text/bias/c2_bias.txt', 'weights_and_bias_bin.txt')"
   ]
  },
  {
   "cell_type": "code",
   "execution_count": null,
   "metadata": {},
   "outputs": [],
   "source": [
    "float_to_fixed('./param_text/bias/fc1_bias.txt', 'weights_and_bias_bin.txt')"
   ]
  },
  {
   "cell_type": "code",
   "execution_count": null,
   "metadata": {},
   "outputs": [],
   "source": [
    "float_to_fixed('./param_text/bias/fc2_bias.txt', 'weights_and_bias_bin.txt')"
   ]
  },
  {
   "cell_type": "markdown",
   "metadata": {},
   "source": [
    "## 图像数据定点化"
   ]
  },
  {
   "cell_type": "code",
   "execution_count": null,
   "metadata": {},
   "outputs": [],
   "source": [
    "float_to_fixed('./pix_norm.txt', 'img_pix_bin.txt')"
   ]
  },
  {
   "cell_type": "code",
   "execution_count": null,
   "metadata": {},
   "outputs": [],
   "source": []
  }
 ],
 "metadata": {
  "kernelspec": {
   "display_name": "pt-tf2",
   "language": "python",
   "name": "pt-tf2"
  },
  "language_info": {
   "codemirror_mode": {
    "name": "ipython",
    "version": 3
   },
   "file_extension": ".py",
   "mimetype": "text/x-python",
   "name": "python",
   "nbconvert_exporter": "python",
   "pygments_lexer": "ipython3",
   "version": "3.7.9"
  }
 },
 "nbformat": 4,
 "nbformat_minor": 4
}
